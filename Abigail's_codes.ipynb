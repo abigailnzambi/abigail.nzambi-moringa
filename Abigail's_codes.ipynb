{
  "cells": [
    {
      "cell_type": "markdown",
      "metadata": {
        "id": "view-in-github",
        "colab_type": "text"
      },
      "source": [
        "<a href=\"https://colab.research.google.com/github/abigailnzambi/abigail.nzambi-moringa/blob/main/Abigail's_codes.ipynb\" target=\"_parent\"><img src=\"https://colab.research.google.com/assets/colab-badge.svg\" alt=\"Open In Colab\"/></a>"
      ]
    },
    {
      "cell_type": "code",
      "execution_count": 1,
      "id": "d477f58d",
      "metadata": {
        "id": "d477f58d"
      },
      "outputs": [],
      "source": [
        "#General Instructions\n",
        "#Kenyan Holidays - Store names, dates, and types of national holidays.\n",
        "#string\n",
        "#integer\n",
        "#float\n",
        "#boolean\n",
        "#list\n",
        "#tuple\n",
        "#set\n",
        "#dictionary"
      ]
    },
    {
      "cell_type": "code",
      "source": [],
      "metadata": {
        "id": "DgBdNc9j0_3m"
      },
      "id": "DgBdNc9j0_3m",
      "execution_count": 1,
      "outputs": []
    },
    {
      "cell_type": "code",
      "execution_count": 2,
      "id": "9b0079c0",
      "metadata": {
        "id": "9b0079c0",
        "outputId": "949f6b85-6149-4cac-bedb-16e54af0d050",
        "colab": {
          "base_uri": "https://localhost:8080/"
        }
      },
      "outputs": [
        {
          "output_type": "stream",
          "name": "stdout",
          "text": [
            "<class 'str'>\n"
          ]
        }
      ],
      "source": [
        "#string\n",
        "holidays_in_may = 'Labor Day'\n",
        "print(type(holidays_in_may))"
      ]
    },
    {
      "cell_type": "code",
      "execution_count": 3,
      "id": "42211360",
      "metadata": {
        "id": "42211360",
        "outputId": "3739c2c4-93ce-4761-c34a-a2e00eeb9529",
        "colab": {
          "base_uri": "https://localhost:8080/"
        }
      },
      "outputs": [
        {
          "output_type": "stream",
          "name": "stdout",
          "text": [
            "<class 'int'>\n"
          ]
        }
      ],
      "source": [
        "#integer\n",
        "national_holidays_in_a_year = 5\n",
        "print(type(national_holidays_in_a_year))"
      ]
    },
    {
      "cell_type": "code",
      "execution_count": 4,
      "id": "2e13de28",
      "metadata": {
        "id": "2e13de28",
        "outputId": "3cfb623b-5ec2-413c-fae5-cc201655573a",
        "colab": {
          "base_uri": "https://localhost:8080/"
        }
      },
      "outputs": [
        {
          "output_type": "stream",
          "name": "stdout",
          "text": [
            "<class 'float'>\n"
          ]
        }
      ],
      "source": [
        "#float\n",
        "ratio_holidays_to_number_days_year = 5/365\n",
        "print(type(ratio_holidays_to_number_days_year))"
      ]
    },
    {
      "cell_type": "code",
      "execution_count": 5,
      "id": "7325e164",
      "metadata": {
        "id": "7325e164",
        "outputId": "11507a77-79a5-4e08-be60-971e91c850fd",
        "colab": {
          "base_uri": "https://localhost:8080/"
        }
      },
      "outputs": [
        {
          "output_type": "execute_result",
          "data": {
            "text/plain": [
              "True"
            ]
          },
          "metadata": {},
          "execution_count": 5
        }
      ],
      "source": [
        "#boolean\n",
        "days_in_a_year = 365\n",
        "holidays_in_a_year = 5\n",
        "days_in_a_year>holidays_in_a_year"
      ]
    },
    {
      "cell_type": "code",
      "execution_count": 6,
      "id": "98f45a98",
      "metadata": {
        "id": "98f45a98",
        "outputId": "01102098-171c-4774-86b7-d45ecf26703e",
        "colab": {
          "base_uri": "https://localhost:8080/",
          "height": 36
        }
      },
      "outputs": [
        {
          "output_type": "execute_result",
          "data": {
            "text/plain": [
              "'Utamaduni'"
            ],
            "application/vnd.google.colaboratory.intrinsic+json": {
              "type": "string"
            }
          },
          "metadata": {},
          "execution_count": 6
        }
      ],
      "source": [
        "#list\n",
        "national_holidays = ['Labor Day','Madaraka','Utamaduni','Jamuhuri']\n",
        "\n",
        "#manipulating a list\n",
        "#1.adding a holiday to the list\n",
        "national_holidays.append('Mashujaa Day')\n",
        "national_holidays\n",
        "\n",
        "# 2.accessing the 3rd holiday-utamaduni\n",
        "national_holidays[2]"
      ]
    },
    {
      "cell_type": "code",
      "execution_count": 7,
      "id": "0d593155",
      "metadata": {
        "id": "0d593155"
      },
      "outputs": [],
      "source": [
        "#tuple\n",
        "dates_holiday = ('Labour-1st May', 'Madaraka-1st June','Utamaduni-20th October', 'Jamuhuri-12th December')"
      ]
    },
    {
      "cell_type": "code",
      "execution_count": 8,
      "id": "4fdd359e",
      "metadata": {
        "id": "4fdd359e",
        "outputId": "7215c5d3-9a6c-47f9-a1e6-5256b22c84d3",
        "colab": {
          "base_uri": "https://localhost:8080/"
        }
      },
      "outputs": [
        {
          "output_type": "stream",
          "name": "stdout",
          "text": [
            "{'Friday', 'Monday', 'Tuesday', 'Wednesday'}\n"
          ]
        }
      ],
      "source": [
        "#set\n",
        "christmas_date_next_5yrs = {'Monday','Friday','Tuesday','Wednesday','Saturday'}\n",
        "\n",
        "#using a set\n",
        "#1. removing an item from the set\n",
        "christmas_date_next_5yrs.remove('Saturday')\n",
        "print(christmas_date_next_5yrs)"
      ]
    },
    {
      "cell_type": "code",
      "execution_count": 9,
      "id": "fbdb3787",
      "metadata": {
        "id": "fbdb3787",
        "outputId": "6ec9a3c8-2c4c-4e00-9b52-98ba3fd50d9f",
        "colab": {
          "base_uri": "https://localhost:8080/"
        }
      },
      "outputs": [
        {
          "output_type": "stream",
          "name": "stdout",
          "text": [
            "{'christian_holidays': ['Easter', 'Good_Friday', 'Easter_Monday', 'Christmas'], 'Islamic_holidays': ['Eid Al-Fitr', 'Eid Al-Adha']}\n"
          ]
        }
      ],
      "source": [
        "#dictionary\n",
        "religious_holidays = {'christian_holidays':['Good_Friday', 'Easter_Monday', 'Christmas'],\n",
        "                   'Islamic_holidays':['Eid Al-Fitr', 'Eid Al-Adha']}\n",
        "\n",
        "#manipulating a dictionary -\n",
        "#1. accessing the values of a key in a dictionary\n",
        "religious_holidays['Islamic_holidays']\n",
        "\n",
        "#2. Add a value to a key\n",
        "religious_holidays.update({'christian_holidays': ['Easter','Good_Friday', 'Easter_Monday', 'Christmas']})\n",
        "print(religious_holidays)"
      ]
    },
    {
      "cell_type": "markdown",
      "source": [
        "## Second Task"
      ],
      "metadata": {
        "id": "6knoe7eRTBVp"
      },
      "id": "6knoe7eRTBVp"
    },
    {
      "cell_type": "code",
      "execution_count": 10,
      "id": "3f33aa44",
      "metadata": {
        "id": "3f33aa44",
        "collapsed": true,
        "colab": {
          "base_uri": "https://localhost:8080/"
        },
        "outputId": "08997e88-99f5-4230-db60-a4b096584f0d"
      },
      "outputs": [
        {
          "output_type": "stream",
          "name": "stdout",
          "text": [
            "Labour-1st May\n",
            "Madaraka-1st June\n",
            "Utamaduni-20th October\n",
            "Jamuhuri-12th December\n"
          ]
        }
      ],
      "source": [
        "#Use a for loop to iterate over a tuple, set, or dictionary.\n",
        "dates_holiday = ('Labour-1st May', 'Madaraka-1st June','Utamaduni-20th October', 'Jamuhuri-12th December')\n",
        "\n",
        "for dates in dates_holiday:\n",
        "  print(dates)"
      ]
    },
    {
      "cell_type": "code",
      "source": [
        "#Use an if statement to make a decision based on a condition.\n",
        "# If statement to create a dictionary displaying whether the holiday leads to a long weekend\n",
        "\n",
        "holiday_day_week={'New Year Day' :['Wednesday'],\n",
        "'Eid al-Fitr':['Monday'],\n",
        "'Good Friday':\t['Friday'],\n",
        "'Easter Monday':\t['Monday'],\n",
        "'Labour Day'\t:['Thursday'],\n",
        "'Madaraka Day' :['Sunday'],\n",
        "'Eid al-Adha':\t['Saturday'],\n",
        "'Moi Day' :\t['Friday'],\n",
        "'Mashujaa Day':['Monday'],\n",
        "'Jamhuri Day':\t['Friday'],\n",
        "'Christmas Day':['Thursday'],\n",
        "'Boxing Day'\t:\t['Friday']}\n",
        "\n",
        "#creating a new dictionary\n",
        "long_short_weekend = {\n",
        "    holiday: ('long_weekend' if day[0] in ['Friday', 'Sunday', 'Monday'] else 'short_weekend')\n",
        "    for holiday, day in holiday_day_week.items()\n",
        "}\n",
        "\n",
        "long_short_weekend"
      ],
      "metadata": {
        "id": "6aCT_nsz7aGF",
        "colab": {
          "base_uri": "https://localhost:8080/"
        },
        "outputId": "62322b7b-7282-497b-e0d0-611a12953ef7"
      },
      "id": "6aCT_nsz7aGF",
      "execution_count": 11,
      "outputs": [
        {
          "output_type": "execute_result",
          "data": {
            "text/plain": [
              "{'New Year Day': 'short_weekend',\n",
              " 'Eid al-Fitr': 'long_weekend',\n",
              " 'Good Friday': 'long_weekend',\n",
              " 'Easter Monday': 'long_weekend',\n",
              " 'Labour Day': 'short_weekend',\n",
              " 'Madaraka Day': 'long_weekend',\n",
              " 'Eid al-Adha': 'short_weekend',\n",
              " 'Moi Day': 'long_weekend',\n",
              " 'Mashujaa Day': 'long_weekend',\n",
              " 'Jamhuri Day': 'long_weekend',\n",
              " 'Christmas Day': 'short_weekend',\n",
              " 'Boxing Day': 'long_weekend'}"
            ]
          },
          "metadata": {},
          "execution_count": 11
        }
      ]
    },
    {
      "cell_type": "code",
      "source": [
        "# Use a while loop with a condition related to your dataset\n",
        "\n",
        "holidays_in_each_month = {'January':['New Year Day (Jan 1)'],\n",
        "'Februrary' : [],\n",
        "'March':['Eid al‑Fitr (Mar 31)'],\n",
        "'April':['Good Friday (Apr 18)', 'Easter Monday (Apr 21)'],\n",
        "'May'\t:['Labour Day (May 1)'],\n",
        "'June':['Madaraka Day Jun 1', 'Eid al‑Adha (Jun 7)'],\n",
        "'July' : [],\n",
        "'August' : [],\n",
        "'September' : [],\n",
        "'October' :['Mazingira Day (Oct 10)', 'Mashujaa Day (Oct 20)'],\n",
        "'November' : [],\n",
        "'December'\t:['Jamhuri Day (Dec 12)',' Christmas Day (Dec 25)', 'Boxing Day (Dec 26)']}\n",
        "\n",
        "months = list(holidays_in_each_month.keys()) # months= [January, February, March, May, June, July, August, September,October, November, December]\n",
        "\n",
        "month_index = 0\n",
        "\n",
        "while month_index < len(months):\n",
        "  current_month = months[month_index] # Index O = January\n",
        "  holidays = holidays_in_each_month[current_month] # holidays in January; returns the lisT January: 'January':['New Year Day (Jan 1)'],\n",
        "  count = len(holidays) #counts the number of items in January\n",
        "\n",
        "  print(f\"In {current_month}, there {'is' if count == 1 else 'are'} {count} holiday{'s' if count != 1 else ''}.\")\n",
        "\n",
        "  month_index += 1  # move to the next month"
      ],
      "metadata": {
        "id": "jQ7NL-DODDgj",
        "colab": {
          "base_uri": "https://localhost:8080/"
        },
        "outputId": "aec1d083-156d-4a72-c8d1-dcd416c74ba6"
      },
      "id": "jQ7NL-DODDgj",
      "execution_count": 12,
      "outputs": [
        {
          "output_type": "stream",
          "name": "stdout",
          "text": [
            "In January, there is 1 holiday.\n",
            "In Februrary, there are 0 holidays.\n",
            "In March, there is 1 holiday.\n",
            "In April, there are 2 holidays.\n",
            "In May, there is 1 holiday.\n",
            "In June, there are 2 holidays.\n",
            "In July, there are 0 holidays.\n",
            "In August, there are 0 holidays.\n",
            "In September, there are 0 holidays.\n",
            "In October, there are 2 holidays.\n",
            "In November, there are 0 holidays.\n",
            "In December, there are 3 holidays.\n"
          ]
        }
      ]
    },
    {
      "cell_type": "code",
      "source": [
        "# Write a function that performs a relevant task or calculation and returns a result\n",
        "\n",
        "# This function takes in a month name and a dictionary of holidays, and returns the number of hours spent on holiday in that month.\n",
        "\n",
        "def hours_on_holiday(Month):\n",
        "  holiday_counts = {\n",
        "    'January': 1,\n",
        "    'February': 0,\n",
        "    'March': 1,\n",
        "    'April': 2,\n",
        "    'May': 1,\n",
        "    'June': 2,\n",
        "    'July': 0,\n",
        "    'August': 0,\n",
        "    'September': 0,\n",
        "    'October': 2,\n",
        "    'November': 0,\n",
        "    'December': 3\n",
        "    }\n",
        "\n",
        "  count = holiday_counts.get(Month) #get() method returns the value of the item with the specified key\n",
        "  HOURS_PER_DAY = 24  #Static variable\n",
        "\n",
        "  number_hours_holiday = count*HOURS_PER_DAY\n",
        "  print(f\"The number of hours spent on holiday in {Month} is {number_hours_holiday}\")\n",
        "\n",
        "hours_on_holiday('February') #calling the function. Insert a different month\n",
        "\n"
      ],
      "metadata": {
        "colab": {
          "base_uri": "https://localhost:8080/"
        },
        "id": "gVLR5P3WLflz",
        "outputId": "6cb1bb9a-b0df-4b58-a710-1a790aa9bdec"
      },
      "id": "gVLR5P3WLflz",
      "execution_count": 13,
      "outputs": [
        {
          "output_type": "stream",
          "name": "stdout",
          "text": [
            "The number of hours spent on holiday in February is 0\n"
          ]
        }
      ]
    },
    {
      "cell_type": "code",
      "source": [
        "number_days = 4\n",
        "if number_days > 5:\n",
        "  print('Too many days off')\n",
        "elif number_days > 3:\n",
        "  print('Many days off')\n",
        "else:\n",
        "  print('Enough days off')"
      ],
      "metadata": {
        "id": "5u8X1eC0rgZe",
        "colab": {
          "base_uri": "https://localhost:8080/"
        },
        "outputId": "7a3349da-2250-43c4-d22c-10627a6f3bc7"
      },
      "id": "5u8X1eC0rgZe",
      "execution_count": 17,
      "outputs": [
        {
          "output_type": "stream",
          "name": "stdout",
          "text": [
            "Many days off\n"
          ]
        }
      ]
    },
    {
      "cell_type": "markdown",
      "source": [
        "Measures"
      ],
      "metadata": {
        "id": "i29dfoVErqck"
      },
      "id": "i29dfoVErqck"
    },
    {
      "cell_type": "code",
      "source": [
        "import numpy as np\n",
        "Age = [23,56,45,12,47,75,23,45,42,35,73,13,28]\n",
        "\n",
        "mean_age = np.mean(Age)\n",
        "print(mean_age)\n",
        "\n",
        "mean_age2=sum(Age)/len(Age)\n",
        "mean_age2"
      ],
      "metadata": {
        "id": "5J-JVkY6rtjE"
      },
      "id": "5J-JVkY6rtjE",
      "execution_count": null,
      "outputs": []
    },
    {
      "cell_type": "code",
      "source": [
        "#Median\n",
        "median_Age = np.median(Age)\n",
        "print(median_Age)"
      ],
      "metadata": {
        "id": "QpWX32UmtMmH"
      },
      "id": "QpWX32UmtMmH",
      "execution_count": null,
      "outputs": []
    },
    {
      "cell_type": "code",
      "source": [
        "#plotting a histogram\n",
        "import matplotlib.pyplot as plt\n",
        "bins = 10\n",
        "plt.hist(Age, bins, edgecolor = 'black', color = '#891332', alpha=0.7)\n",
        "#plt.title('Age distribution')\n",
        "plt.xlabel('Age values')\n",
        "plt.ylabel('Age count')\n",
        "plt.show()"
      ],
      "metadata": {
        "id": "Qo4vD2o5thnC"
      },
      "id": "Qo4vD2o5thnC",
      "execution_count": null,
      "outputs": []
    },
    {
      "cell_type": "code",
      "source": [],
      "metadata": {
        "id": "uGzRWAY29JZ9"
      },
      "id": "uGzRWAY29JZ9",
      "execution_count": null,
      "outputs": []
    },
    {
      "cell_type": "code",
      "source": [
        "plt.style.use('ggplot')\n",
        "plt.boxplot(Age)\n"
      ],
      "metadata": {
        "id": "CMCA_lQnuP8m"
      },
      "id": "CMCA_lQnuP8m",
      "execution_count": null,
      "outputs": []
    },
    {
      "cell_type": "code",
      "source": [
        "plt.style.use('ggplot')\n",
        "box_plot = plt.boxplot(Age, showfliers = False)\n",
        "plt.title='Box plot'\n",
        "plt.show()"
      ],
      "metadata": {
        "id": "4snme1Iq9MNy"
      },
      "id": "4snme1Iq9MNy",
      "execution_count": null,
      "outputs": []
    },
    {
      "cell_type": "code",
      "source": [
        "variable1 = [23, 43, 56, 74, 32, 68, 98, 45, 32, ]\n",
        "variable2 = [177.8, 157.48, 175.26, 175.26, 157.48, 167.64, 154.94, 162.56, 175.26]\n",
        "\n",
        "cov=np.cov(variable1, variable2)\n",
        "print(cov[0,1])\n",
        "\n",
        "corr = np.corrcoef(variable2,variable1)\n",
        "corr[0,1]"
      ],
      "metadata": {
        "id": "h3aBsYyXA2av"
      },
      "id": "h3aBsYyXA2av",
      "execution_count": null,
      "outputs": []
    },
    {
      "cell_type": "markdown",
      "source": [
        "# Task on Statistical Measure"
      ],
      "metadata": {
        "id": "SaM0LbQ2Crm5"
      },
      "id": "SaM0LbQ2Crm5"
    },
    {
      "cell_type": "code",
      "source": [
        "import numpy as np\n",
        "import pandas as pd\n",
        "import matplotlib.pyplot as plt"
      ],
      "metadata": {
        "id": "OIakX16rGPxN"
      },
      "id": "OIakX16rGPxN",
      "execution_count": null,
      "outputs": []
    },
    {
      "cell_type": "code",
      "source": [
        "#reading my file form google\n",
        "\n",
        "holidays = pd.read_csv(\"kenyan_holidays_2025.csv\")\n",
        "holidays"
      ],
      "metadata": {
        "collapsed": true,
        "id": "g_SyhCgWGITd"
      },
      "id": "g_SyhCgWGITd",
      "execution_count": null,
      "outputs": []
    },
    {
      "cell_type": "markdown",
      "source": [
        "# Measures of Central Tendency\n",
        "## 1.Mean\n",
        "## 2.Median\n",
        "## 3.Mode"
      ],
      "metadata": {
        "id": "g9_-DcIQnnIh"
      },
      "id": "g9_-DcIQnnIh"
    },
    {
      "cell_type": "code",
      "source": [
        "#measure of central tendancy\n",
        "#1. mean\n",
        "mean_popularity_score=np.mean(holidays['Popularity Score (1-10)'])\n",
        "print(mean_popularity_score)\n",
        "\n",
        "#2. mode\n",
        "median_popularity_scoe = np.median(holidays['Popularity Score (1-10)'])\n",
        "print(median_popularity_scoe)\n",
        "\n"
      ],
      "metadata": {
        "id": "J2HFOLeGakiB"
      },
      "id": "J2HFOLeGakiB",
      "execution_count": null,
      "outputs": []
    },
    {
      "cell_type": "markdown",
      "source": [
        "# Histogram"
      ],
      "metadata": {
        "id": "ofG_yBZdn0G4"
      },
      "id": "ofG_yBZdn0G4"
    },
    {
      "cell_type": "code",
      "source": [
        "plt.hist(holidays['Popularity Score (1-10)'], bins = 6, color = '#80217A', edgecolor = 'black')\n",
        "#plt.title('Histogram showing the count of popularity score')\n",
        "plt.xlabel('Popularity value')\n",
        "plt.ylabel('Popularity Count')\n",
        "plt.show()"
      ],
      "metadata": {
        "id": "3TBt2Ca0kKY-"
      },
      "id": "3TBt2Ca0kKY-",
      "execution_count": null,
      "outputs": []
    },
    {
      "cell_type": "markdown",
      "source": [
        "# Measures of dispersion\n",
        "## 1.Range\n",
        "## 2.Variance\n",
        "## 3.Standard Deviation\n",
        "## 4.Interquartile Range (IQR)\n",
        "## 5.Covariance\n",
        "## 6.Correlation\n"
      ],
      "metadata": {
        "id": "J8wT5JAMm6Pm"
      },
      "id": "J8wT5JAMm6Pm"
    },
    {
      "cell_type": "code",
      "source": [
        "np.random.seed(42)  # Ensures you get the same values every time\n",
        "holidays[\"Percentage Travel Rate\"] = np.random.randint(10, 71, size=len(holidays))"
      ],
      "metadata": {
        "id": "cUm3MwUoxGCg"
      },
      "id": "cUm3MwUoxGCg",
      "execution_count": null,
      "outputs": []
    },
    {
      "cell_type": "code",
      "source": [
        "# Range\n",
        "holidays['Popularity Score (1-10)']\n",
        "\n",
        "Range_popularity_score = (np.max(holidays['Percentage Travel Rate']) - np.min(holidays['Percentage Travel Rate']))\n",
        "print(Range_popularity_score)"
      ],
      "metadata": {
        "id": "VdR7LnWzn4z0"
      },
      "id": "VdR7LnWzn4z0",
      "execution_count": null,
      "outputs": []
    },
    {
      "cell_type": "code",
      "source": [
        "# Variance\n",
        "variance_travel_rate = np.var(holidays['Percentage Travel Rate'])\n",
        "print(variance_travel_rate)\n",
        "\n",
        "#standard deviation\n",
        "std_dev = np.std(holidays['Percentage Travel Rate'])\n",
        "print(std_dev)"
      ],
      "metadata": {
        "id": "6LuBZWANs2KO"
      },
      "id": "6LuBZWANs2KO",
      "execution_count": null,
      "outputs": []
    },
    {
      "cell_type": "code",
      "source": [
        "#Covariance\n",
        "covariance = np.cov(holidays[\"Percentage Travel Rate\"], holidays['Popularity Score (1-10)'])\n",
        "print(covariance[0, 1])\n",
        "\n",
        "#correlation\n",
        "correlation = np.corrcoef(holidays[\"Percentage Travel Rate\"], holidays['Popularity Score (1-10)'])\n",
        "print(correlation[0,1])"
      ],
      "metadata": {
        "id": "6b5Oy-9YjZzQ"
      },
      "id": "6b5Oy-9YjZzQ",
      "execution_count": null,
      "outputs": []
    },
    {
      "cell_type": "code",
      "source": [
        "\n",
        "# Quantile deviation\n",
        "\n",
        "#1. 1st quantile\n",
        "first_q = np.quantile(holidays['Popularity Score (1-10)'],0.25)\n",
        "print(first_q)\n",
        "\n",
        "#2. 2nd quantile\n",
        "second_q = np.quantile(holidays['Popularity Score (1-10)'],0.5)\n",
        "print(second_q)\n",
        "\n",
        "#3. 3rd quantile\n",
        "third_q = np.quantile(holidays['Popularity Score (1-10)'],0.75)\n",
        "print(third_q)"
      ],
      "metadata": {
        "id": "CE88F8chyGVp"
      },
      "id": "CE88F8chyGVp",
      "execution_count": null,
      "outputs": []
    },
    {
      "cell_type": "code",
      "source": [
        "# Showing outliers using a boxplot\n",
        "\n",
        "#add a madeup holiday\n",
        "outlier_data = [{\n",
        "    \"Holiday\": \"Made-Up Holiday\",\n",
        "    \"Date\": \"2025-07-01\",\n",
        "    \"Month\": \"July\",\n",
        "    \"Category\": \"Experimental\",\n",
        "    \"Days Off\": 1,\n",
        "    \"Popularity Score (1-10)\": 50,\n",
        "    \"Day of Week\": \"Tuesday\",\n",
        "    \"Percentage Travel Rate\": 150\n",
        "}]\n",
        "\n",
        "outlier_df = pd.DataFrame(outlier_data)\n",
        "\n",
        "holidays = pd.concat([holidays, outlier_df], ignore_index=True)\n",
        "holidays"
      ],
      "metadata": {
        "id": "NsJnu2SOzurf"
      },
      "id": "NsJnu2SOzurf",
      "execution_count": null,
      "outputs": []
    },
    {
      "cell_type": "code",
      "source": [
        "#boxplot\n",
        "\n",
        "plt.style.use('ggplot')\n",
        "plt.boxplot(holidays['Percentage Travel Rate'])\n",
        "plt.show()"
      ],
      "metadata": {
        "id": "-5Yap79N1DZK"
      },
      "id": "-5Yap79N1DZK",
      "execution_count": null,
      "outputs": []
    },
    {
      "cell_type": "code",
      "source": [
        "plt.style.use('ggplot')\n",
        "plt.boxplot(holidays['Popularity Score (1-10)'])\n",
        "plt.show()"
      ],
      "metadata": {
        "id": "FPPYDgIq2Bph"
      },
      "id": "FPPYDgIq2Bph",
      "execution_count": null,
      "outputs": []
    },
    {
      "cell_type": "code",
      "source": [
        "# Plotting a scatter charts\n",
        "\n",
        "# Plot scatter\n",
        "plt.scatter(holidays[\"Percentage Travel Rate\"], holidays['Popularity Score (1-10)'])\n",
        "#plt.title(f\"Scatter plot for Travel Rate and Popularity Score\")\n",
        "plt.xlabel(\"Percentage Travel Rate\")\n",
        "plt.ylabel(\"Popularity Score\")\n",
        "plt.legend()\n",
        "plt.grid(True)\n",
        "plt.show()\n"
      ],
      "metadata": {
        "id": "Rjp4G4ZE3bOF"
      },
      "id": "Rjp4G4ZE3bOF",
      "execution_count": null,
      "outputs": []
    },
    {
      "cell_type": "code",
      "source": [
        "# Extract x and y\n",
        "x = holidays[\"Percentage Travel Rate\"]\n",
        "y = holidays[\"Popularity Score (1-10)\"]\n",
        "\n",
        "# Calculate line of best fit (linear regression)\n",
        "slope, intercept = np.polyfit(x, y, 1)\n",
        "best_fit_line = slope * x + intercept\n",
        "\n",
        "# Plot the scatter plot\n",
        "plt.figure(figsize=(8, 5))\n",
        "plt.scatter(x, y, color=\"skyblue\", label=\"Data Points\")\n",
        "\n",
        "# Plot the best fit line\n",
        "plt.plot(x, best_fit_line, color=\"red\", label=\"Best Fit Line\")\n",
        "\n",
        "# Labeling\n",
        "#plt.title(\"Travel Rate vs. Popularity Score\")\n",
        "plt.xlabel(\"Percentage Travel Rate\")\n",
        "plt.ylabel(\"Popularity Score (1-10)\")\n",
        "plt.legend()\n",
        "plt.grid(True)\n",
        "plt.show()"
      ],
      "metadata": {
        "id": "SoULhP-9PUuB"
      },
      "id": "SoULhP-9PUuB",
      "execution_count": null,
      "outputs": []
    },
    {
      "cell_type": "markdown",
      "source": [
        "#Univariate analysis - analyses one variable at a time\n",
        "#Bivariate analysis - relationship between two variables\n",
        "#Multivariate analysis - relationship between more than one variable\n"
      ],
      "metadata": {
        "id": "5l8jfUtmIGjx"
      },
      "id": "5l8jfUtmIGjx"
    },
    {
      "cell_type": "code",
      "source": [
        "StudentsPerformance = pd.read_csv('StudentsPerformance.csv')\n",
        "StudentsPerformance.head()"
      ],
      "metadata": {
        "id": "ukX-LKc-IFF7"
      },
      "id": "ukX-LKc-IFF7",
      "execution_count": null,
      "outputs": []
    },
    {
      "cell_type": "code",
      "source": [
        "#types of datasets\n",
        "#Numerical\n",
        "#categorical\n",
        "#--Nominal Variable: No logic within it\n",
        "#--Oridinal variables: There is order to it eg primary, secondary, or good, bad, worst\n"
      ],
      "metadata": {
        "id": "Erbet9zFKtQQ"
      },
      "id": "Erbet9zFKtQQ",
      "execution_count": null,
      "outputs": []
    },
    {
      "cell_type": "code",
      "source": [
        "StudentsPerformance.describe()"
      ],
      "metadata": {
        "id": "cC7ccvBgM__q"
      },
      "id": "cC7ccvBgM__q",
      "execution_count": null,
      "outputs": []
    },
    {
      "cell_type": "code",
      "source": [
        "StudentsPerformance.info()"
      ],
      "metadata": {
        "id": "K5shFuASNQs3"
      },
      "id": "K5shFuASNQs3",
      "execution_count": null,
      "outputs": []
    },
    {
      "cell_type": "code",
      "source": [
        "#univariate analysis\n",
        "#categorigal feature\n",
        "\n",
        "gender_counts = StudentsPerformance['gender'].value_counts()\n",
        "gender_counts.plot(kind='bar', color = 'blue')\n",
        "plt.show()\n",
        "\n"
      ],
      "metadata": {
        "id": "ipEQMBpJNcM9"
      },
      "id": "ipEQMBpJNcM9",
      "execution_count": null,
      "outputs": []
    },
    {
      "cell_type": "code",
      "source": [
        "plt.hist(StudentsPerformance['math score'], edgecolor='black', color = 'blue')\n",
        "plt.show()"
      ],
      "metadata": {
        "id": "_L4mSNDySRWK"
      },
      "id": "_L4mSNDySRWK",
      "execution_count": null,
      "outputs": []
    },
    {
      "cell_type": "code",
      "source": [
        "plt.boxplot(StudentsPerformance['writing score'],vert = False, color = 'blue')\n",
        "plt.show()"
      ],
      "metadata": {
        "id": "r2hBBJSnRCVE"
      },
      "id": "r2hBBJSnRCVE",
      "execution_count": null,
      "outputs": []
    },
    {
      "cell_type": "code",
      "source": [
        "#numerical vs numeriacla"
      ],
      "metadata": {
        "id": "BTf_GlBPSkXq"
      },
      "id": "BTf_GlBPSkXq",
      "execution_count": null,
      "outputs": []
    },
    {
      "cell_type": "code",
      "source": [
        "#categorical vs numerical\n",
        "\n",
        "box_plot_scores = StudentsPerformance.boxplot(column= 'reading score', by = 'gender', color = 'blue')\n",
        "plt.show(box_plot_scores)"
      ],
      "metadata": {
        "id": "UzJnTTYXSnVQ"
      },
      "id": "UzJnTTYXSnVQ",
      "execution_count": null,
      "outputs": []
    },
    {
      "cell_type": "code",
      "source": [
        "#Heatmap -  used for numerical values\n",
        "\n",
        "import seaborn as sns\n",
        "\n",
        "numerical_values = StudentsPerformance[['math score', 'reading score', 'writing score']]\n",
        "numerical_values.head()\n",
        "\n",
        "corr_matrix = numerical_values.corr()\n",
        "corr_matrix\n",
        "plt.figure(figsize=(9,5))\n",
        "sns.heatmap(corr_matrix, annot=True, cmap='YlGnBu')\n",
        "plt.show()"
      ],
      "metadata": {
        "id": "zd1KbyGwTmo5"
      },
      "id": "zd1KbyGwTmo5",
      "execution_count": null,
      "outputs": []
    }
  ],
  "metadata": {
    "kernelspec": {
      "display_name": "Python 3 (ipykernel)",
      "language": "python",
      "name": "python3"
    },
    "language_info": {
      "codemirror_mode": {
        "name": "ipython",
        "version": 3
      },
      "file_extension": ".py",
      "mimetype": "text/x-python",
      "name": "python",
      "nbconvert_exporter": "python",
      "pygments_lexer": "ipython3",
      "version": "3.11.7"
    },
    "colab": {
      "provenance": [],
      "include_colab_link": true
    }
  },
  "nbformat": 4,
  "nbformat_minor": 5
}