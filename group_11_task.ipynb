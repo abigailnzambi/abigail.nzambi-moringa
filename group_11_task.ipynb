{
 "cells": [
  {
   "cell_type": "code",
   "execution_count": 4,
   "id": "d477f58d",
   "metadata": {},
   "outputs": [],
   "source": [
    "#General Instructions\n",
    "#Kenyan Holidays - Store names, dates, and types of national holidays.\n",
    "#string\n",
    "#integer\n",
    "#float\n",
    "#boolean\n",
    "#list\n",
    "#tuple\n",
    "#set\n",
    "#dictionary"
   ]
  },
  {
   "cell_type": "code",
   "execution_count": 17,
   "id": "9b0079c0",
   "metadata": {},
   "outputs": [
    {
     "name": "stdout",
     "output_type": "stream",
     "text": [
      "<class 'str'>\n"
     ]
    }
   ],
   "source": [
    "#string\n",
    "holidays_in_may = 'Labor Day'\n",
    "print(type(holidays_in_may))"
   ]
  },
  {
   "cell_type": "code",
   "execution_count": 18,
   "id": "42211360",
   "metadata": {},
   "outputs": [
    {
     "name": "stdout",
     "output_type": "stream",
     "text": [
      "<class 'int'>\n"
     ]
    }
   ],
   "source": [
    "#integer\n",
    "national_holidays_in_a_year = 5\n",
    "print(type(national_holidays_in_a_year))"
   ]
  },
  {
   "cell_type": "code",
   "execution_count": 20,
   "id": "2e13de28",
   "metadata": {},
   "outputs": [
    {
     "name": "stdout",
     "output_type": "stream",
     "text": [
      "<class 'float'>\n"
     ]
    }
   ],
   "source": [
    "#float\n",
    "ratio_holidays_to_number_days_year = 5/365\n",
    "print(type(ratio_holidays_to_number_days_year))"
   ]
  },
  {
   "cell_type": "code",
   "execution_count": 21,
   "id": "7325e164",
   "metadata": {},
   "outputs": [
    {
     "data": {
      "text/plain": [
       "True"
      ]
     },
     "execution_count": 21,
     "metadata": {},
     "output_type": "execute_result"
    }
   ],
   "source": [
    "#boolean\n",
    "days_in_a_year = 365\n",
    "holidays_in_a_year = 5\n",
    "days_in_a_year>holidays_in_a_year"
   ]
  },
  {
   "cell_type": "code",
   "execution_count": 23,
   "id": "98f45a98",
   "metadata": {},
   "outputs": [
    {
     "data": {
      "text/plain": [
       "'Utamaduni'"
      ]
     },
     "execution_count": 23,
     "metadata": {},
     "output_type": "execute_result"
    }
   ],
   "source": [
    "#list\n",
    "national_holidays = ['Labor Day','Madaraka','Utamaduni','Jamuhuri']\n",
    "\n",
    "#manipulating a list\n",
    "#1.adding a holiday to the list\n",
    "national_holidays.append('Mashujaa Day')\n",
    "national_holidays\n",
    "\n",
    "# 2.accessing the 3rd holiday-utamaduni\n",
    "national_holidays[2]"
   ]
  },
  {
   "cell_type": "code",
   "execution_count": 7,
   "id": "0d593155",
   "metadata": {},
   "outputs": [],
   "source": [
    "#tuple\n",
    "dates_holiday = ('Labour-1st May', 'Madaraka-1st June','Utamaduni-20th October', 'Jamuhuri-12th December')"
   ]
  },
  {
   "cell_type": "code",
   "execution_count": 36,
   "id": "4fdd359e",
   "metadata": {},
   "outputs": [
    {
     "name": "stdout",
     "output_type": "stream",
     "text": [
      "{'Wednesday', 'Tuesday', 'Friday', 'Monday'}\n"
     ]
    }
   ],
   "source": [
    "#set\n",
    "christmas_date_next_5yrs = {'Monday','Friday','Tuesday','Wednesday','Saturday'}\n",
    "\n",
    "#using a set\n",
    "#1. removing an item from the set\n",
    "christmas_date_next_5yrs.remove('Saturday')\n",
    "print(christmas_date_next_5yrs)"
   ]
  },
  {
   "cell_type": "code",
   "execution_count": 41,
   "id": "fbdb3787",
   "metadata": {},
   "outputs": [
    {
     "name": "stdout",
     "output_type": "stream",
     "text": [
      "{'christian_holidays': ['Easter', 'Good_Friday', 'Easter_Monday', 'Christmas'], 'Islamic_holidays': ['Eid Al-Fitr', 'Eid Al-Adha']}\n"
     ]
    }
   ],
   "source": [
    "#dictionary\n",
    "religious_holidays = {'christian_holidays':['Good_Friday', 'Easter_Monday', 'Christmas'], \n",
    "                   'Islamic_holidays':['Eid Al-Fitr', 'Eid Al-Adha']}\n",
    "\n",
    "#manipulating a dictionary - \n",
    "#1. accessing the values of a key in a dictionary\n",
    "religious_holidays['Islamic_holidays']\n",
    "\n",
    "#2. Add a value to a key\n",
    "religious_holidays.update({'christian_holidays': ['Easter','Good_Friday', 'Easter_Monday', 'Christmas']})\n",
    "print(religious_holidays)"
   ]
  },
  {
   "cell_type": "code",
   "execution_count": 16,
   "id": "faee57df",
   "metadata": {},
   "outputs": [
    {
     "name": "stdout",
     "output_type": "stream",
     "text": [
      "<class 'str'>\n",
      "<class 'int'>\n",
      "<class 'float'>\n",
      "<class 'bool'>\n",
      "<class 'list'>\n",
      "<class 'tuple'>\n",
      "<class 'set'>\n",
      "<class 'dict'>\n"
     ]
    }
   ],
   "source": [
    "\n",
    "\n",
    "print(type(number_quarters_year))\n",
    "print(type(a>b))\n",
    "print(type(national_holidays))\n",
    "print(type(dates_holiday))\n",
    "print(type(christmas_date_next_5yrs))\n",
    "print(type(religious_holidays))"
   ]
  },
  {
   "cell_type": "code",
   "execution_count": null,
   "id": "3f33aa44",
   "metadata": {},
   "outputs": [],
   "source": []
  }
 ],
 "metadata": {
  "kernelspec": {
   "display_name": "Python 3 (ipykernel)",
   "language": "python",
   "name": "python3"
  },
  "language_info": {
   "codemirror_mode": {
    "name": "ipython",
    "version": 3
   },
   "file_extension": ".py",
   "mimetype": "text/x-python",
   "name": "python",
   "nbconvert_exporter": "python",
   "pygments_lexer": "ipython3",
   "version": "3.11.7"
  }
 },
 "nbformat": 4,
 "nbformat_minor": 5
}
