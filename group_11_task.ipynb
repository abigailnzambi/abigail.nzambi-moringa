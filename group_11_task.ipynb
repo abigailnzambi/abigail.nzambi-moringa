{
  "cells": [
    {
      "cell_type": "markdown",
      "metadata": {
        "id": "view-in-github",
        "colab_type": "text"
      },
      "source": [
        "<a href=\"https://colab.research.google.com/github/abigailnzambi/abigail.nzambi-moringa/blob/main/group_11_task.ipynb\" target=\"_parent\"><img src=\"https://colab.research.google.com/assets/colab-badge.svg\" alt=\"Open In Colab\"/></a>"
      ]
    },
    {
      "cell_type": "code",
      "execution_count": null,
      "id": "d477f58d",
      "metadata": {
        "id": "d477f58d"
      },
      "outputs": [],
      "source": [
        "#General Instructions\n",
        "#Kenyan Holidays - Store names, dates, and types of national holidays.\n",
        "#string\n",
        "#integer\n",
        "#float\n",
        "#boolean\n",
        "#list\n",
        "#tuple\n",
        "#set\n",
        "#dictionary"
      ]
    },
    {
      "cell_type": "code",
      "execution_count": null,
      "id": "9b0079c0",
      "metadata": {
        "id": "9b0079c0",
        "outputId": "3f011031-0d64-4f6c-c145-953817b4bc25"
      },
      "outputs": [
        {
          "name": "stdout",
          "output_type": "stream",
          "text": [
            "<class 'str'>\n"
          ]
        }
      ],
      "source": [
        "#string\n",
        "holidays_in_may = 'Labor Day'\n",
        "print(type(holidays_in_may))"
      ]
    },
    {
      "cell_type": "code",
      "execution_count": null,
      "id": "42211360",
      "metadata": {
        "id": "42211360",
        "outputId": "44f4e76c-8774-4308-9594-69fa0380b0a7"
      },
      "outputs": [
        {
          "name": "stdout",
          "output_type": "stream",
          "text": [
            "<class 'int'>\n"
          ]
        }
      ],
      "source": [
        "#integer\n",
        "national_holidays_in_a_year = 5\n",
        "print(type(national_holidays_in_a_year))"
      ]
    },
    {
      "cell_type": "code",
      "execution_count": null,
      "id": "2e13de28",
      "metadata": {
        "id": "2e13de28",
        "outputId": "c147044e-4ad5-4206-ff98-34ec7f9089a6"
      },
      "outputs": [
        {
          "name": "stdout",
          "output_type": "stream",
          "text": [
            "<class 'float'>\n"
          ]
        }
      ],
      "source": [
        "#float\n",
        "ratio_holidays_to_number_days_year = 5/365\n",
        "print(type(ratio_holidays_to_number_days_year))"
      ]
    },
    {
      "cell_type": "code",
      "execution_count": null,
      "id": "7325e164",
      "metadata": {
        "id": "7325e164",
        "outputId": "20ee86a8-5bed-4d31-bcca-94471c18cf22"
      },
      "outputs": [
        {
          "data": {
            "text/plain": [
              "True"
            ]
          },
          "execution_count": 21,
          "metadata": {},
          "output_type": "execute_result"
        }
      ],
      "source": [
        "#boolean\n",
        "days_in_a_year = 365\n",
        "holidays_in_a_year = 5\n",
        "days_in_a_year>holidays_in_a_year"
      ]
    },
    {
      "cell_type": "code",
      "execution_count": null,
      "id": "98f45a98",
      "metadata": {
        "id": "98f45a98",
        "outputId": "ccb32d88-a533-49f9-ae04-39d4e16368e9"
      },
      "outputs": [
        {
          "data": {
            "text/plain": [
              "'Utamaduni'"
            ]
          },
          "execution_count": 23,
          "metadata": {},
          "output_type": "execute_result"
        }
      ],
      "source": [
        "#list\n",
        "national_holidays = ['Labor Day','Madaraka','Utamaduni','Jamuhuri']\n",
        "\n",
        "#manipulating a list\n",
        "#1.adding a holiday to the list\n",
        "national_holidays.append('Mashujaa Day')\n",
        "national_holidays\n",
        "\n",
        "# 2.accessing the 3rd holiday-utamaduni\n",
        "national_holidays[2]"
      ]
    },
    {
      "cell_type": "code",
      "execution_count": null,
      "id": "0d593155",
      "metadata": {
        "id": "0d593155"
      },
      "outputs": [],
      "source": [
        "#tuple\n",
        "dates_holiday = ('Labour-1st May', 'Madaraka-1st June','Utamaduni-20th October', 'Jamuhuri-12th December')"
      ]
    },
    {
      "cell_type": "code",
      "execution_count": null,
      "id": "4fdd359e",
      "metadata": {
        "id": "4fdd359e",
        "outputId": "bf316e1f-ac8f-49bd-8745-42c53d79c1ed"
      },
      "outputs": [
        {
          "name": "stdout",
          "output_type": "stream",
          "text": [
            "{'Wednesday', 'Tuesday', 'Friday', 'Monday'}\n"
          ]
        }
      ],
      "source": [
        "#set\n",
        "christmas_date_next_5yrs = {'Monday','Friday','Tuesday','Wednesday','Saturday'}\n",
        "\n",
        "#using a set\n",
        "#1. removing an item from the set\n",
        "christmas_date_next_5yrs.remove('Saturday')\n",
        "print(christmas_date_next_5yrs)"
      ]
    },
    {
      "cell_type": "code",
      "execution_count": null,
      "id": "fbdb3787",
      "metadata": {
        "id": "fbdb3787",
        "outputId": "6962636f-e685-49ab-d61c-4085211b5a10"
      },
      "outputs": [
        {
          "name": "stdout",
          "output_type": "stream",
          "text": [
            "{'christian_holidays': ['Easter', 'Good_Friday', 'Easter_Monday', 'Christmas'], 'Islamic_holidays': ['Eid Al-Fitr', 'Eid Al-Adha']}\n"
          ]
        }
      ],
      "source": [
        "#dictionary\n",
        "religious_holidays = {'christian_holidays':['Good_Friday', 'Easter_Monday', 'Christmas'],\n",
        "                   'Islamic_holidays':['Eid Al-Fitr', 'Eid Al-Adha']}\n",
        "\n",
        "#manipulating a dictionary -\n",
        "#1. accessing the values of a key in a dictionary\n",
        "religious_holidays['Islamic_holidays']\n",
        "\n",
        "#2. Add a value to a key\n",
        "religious_holidays.update({'christian_holidays': ['Easter','Good_Friday', 'Easter_Monday', 'Christmas']})\n",
        "print(religious_holidays)"
      ]
    },
    {
      "cell_type": "code",
      "execution_count": null,
      "id": "faee57df",
      "metadata": {
        "id": "faee57df",
        "outputId": "ad8afc1d-fda4-4bf3-a014-ef94234dbef6"
      },
      "outputs": [
        {
          "name": "stdout",
          "output_type": "stream",
          "text": [
            "<class 'str'>\n",
            "<class 'int'>\n",
            "<class 'float'>\n",
            "<class 'bool'>\n",
            "<class 'list'>\n",
            "<class 'tuple'>\n",
            "<class 'set'>\n",
            "<class 'dict'>\n"
          ]
        }
      ],
      "source": [
        "\n",
        "\n",
        "print(type(number_quarters_year))\n",
        "print(type(a>b))\n",
        "print(type(national_holidays))\n",
        "print(type(dates_holiday))\n",
        "print(type(christmas_date_next_5yrs))\n",
        "print(type(religious_holidays))"
      ]
    },
    {
      "cell_type": "code",
      "source": [
        "#Use a for loop to iterate over a tuple, set, or dictionary.\n",
        "dates_holiday = ('Labour-1st May', 'Madaraka-1st June','Utamaduni-20th October', 'Jamuhuri-12th December')\n",
        "\n",
        "for dates in dates_holiday:\n",
        "  print(dates)"
      ],
      "metadata": {
        "id": "6U_InAG96uFc"
      },
      "id": "6U_InAG96uFc",
      "execution_count": null,
      "outputs": []
    },
    {
      "cell_type": "code",
      "source": [
        "#Use an if statement to make a decision based on a condition.\n",
        "# If statement to create a dictionary displaying whether the holiday leads to a long weekend\n",
        "\n",
        "holiday_day_week={'New Year Day' :['Wednesday'],\n",
        "'Eid al-Fitr':['Monday'],\n",
        "'Good Friday':\t['Friday'],\n",
        "'Easter Monday':\t['Monday'],\n",
        "'Labour Day'\t:['Thursday'],\n",
        "'Madaraka Day' :['Sunday'],\n",
        "'Eid al-Adha':\t['Saturday'],\n",
        "'Moi Day' :\t['Friday'],\n",
        "'Mashujaa Day':['Monday'],\n",
        "'Jamhuri Day':\t['Friday'],\n",
        "'Christmas Day':['Thursday'],\n",
        "'Boxing Day'\t:\t['Friday']}\n",
        "\n",
        "#creating a new dictionary\n",
        "long_short_weekend = {\n",
        "    holiday: ('long_weekend' if day[0] in ['Friday', 'Sunday', 'Monday'] else 'short_weekend')\n",
        "    for holiday, day in holiday_day_week.items()\n",
        "}\n",
        "\n",
        "long_short_weekend"
      ],
      "metadata": {
        "id": "2bBRx5tk6woE"
      },
      "id": "2bBRx5tk6woE",
      "execution_count": null,
      "outputs": []
    },
    {
      "cell_type": "code",
      "source": [
        "# Use a while loop with a condition related to your dataset\n",
        "\n",
        "holidays_in_each_month = {'January':['New Year Day (Jan 1)'],\n",
        "'Februrary' : [],\n",
        "'March':['Eid al‑Fitr (Mar 31)'],\n",
        "'April':['Good Friday (Apr 18)', 'Easter Monday (Apr 21)'],\n",
        "'May'\t:['Labour Day (May 1)'],\n",
        "'June':['Madaraka Day Jun 1', 'Eid al‑Adha (Jun 7)'],\n",
        "'July' : [],\n",
        "'August' : [],\n",
        "'September' : [],\n",
        "'October' :['Mazingira Day (Oct 10)', 'Mashujaa Day (Oct 20)'],\n",
        "'November' : [],\n",
        "'December'\t:['Jamhuri Day (Dec 12)',' Christmas Day (Dec 25)', 'Boxing Day (Dec 26)']}\n",
        "\n",
        "months = list(holidays_in_each_month.keys()) # months= [January, February, March, May, June, July, August, September,October, November, December]\n",
        "\n",
        "month_index = 0\n",
        "\n",
        "while month_index < len(months):\n",
        "  current_month = months[month_index] # Index O = January\n",
        "  holidays = holidays_in_each_month[current_month] # holidays in January; returns the lisy January: 'January':['New Year Day (Jan 1)'],\n",
        "  count = len(holidays) #counts the number of items in January\n",
        "\n",
        "  print(f\"In {current_month}, there {'is' if count == 1 else 'are'} {count} holiday{'s' if count != 1 else ''}.\")\n",
        "\n",
        "  month_index += 1  # move to the next month"
      ],
      "metadata": {
        "id": "OW9WIj-f6zV5"
      },
      "id": "OW9WIj-f6zV5",
      "execution_count": null,
      "outputs": []
    },
    {
      "cell_type": "code",
      "source": [
        "# Write a function that performs a relevant task or calculation and returns a result\n",
        "# This function takes in a month name and a dictionary of holidays, and returns the number of holidays in that month.\n",
        "\n",
        "def hours_on_holiday(Month):\n",
        "  holiday_counts = {\n",
        "    'January': 1,\n",
        "    'February': 0,\n",
        "    'March': 1,\n",
        "    'April': 2,\n",
        "    'May': 1,\n",
        "    'June': 2,\n",
        "    'July': 0,\n",
        "    'August': 0,\n",
        "    'September': 0,\n",
        "    'October': 2,\n",
        "    'November': 0,\n",
        "    'December': 3\n",
        "    }\n",
        "\n",
        "  count = holiday_counts.get(Month)\n",
        "  HOURS_PER_DAY = 24\n",
        "\n",
        "  number_hours_holiday = count*HOURS_PER_DAY\n",
        "  print(f\"The number of hours spent on holiday in {Month} is {number_hours_holiday}\")\n",
        "\n",
        "hours_on_holiday('February') #calling the function. Insert a different month\n",
        "\n"
      ],
      "metadata": {
        "id": "ek9z_5A_7BLD"
      },
      "id": "ek9z_5A_7BLD",
      "execution_count": null,
      "outputs": []
    },
    {
      "cell_type": "code",
      "execution_count": null,
      "id": "3f33aa44",
      "metadata": {
        "id": "3f33aa44"
      },
      "outputs": [],
      "source": []
    }
  ],
  "metadata": {
    "kernelspec": {
      "display_name": "Python 3 (ipykernel)",
      "language": "python",
      "name": "python3"
    },
    "language_info": {
      "codemirror_mode": {
        "name": "ipython",
        "version": 3
      },
      "file_extension": ".py",
      "mimetype": "text/x-python",
      "name": "python",
      "nbconvert_exporter": "python",
      "pygments_lexer": "ipython3",
      "version": "3.11.7"
    },
    "colab": {
      "provenance": [],
      "include_colab_link": true
    }
  },
  "nbformat": 4,
  "nbformat_minor": 5
}